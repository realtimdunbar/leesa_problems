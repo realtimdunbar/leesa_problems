{
 "cells": [
  {
   "cell_type": "code",
   "execution_count": 49,
   "metadata": {
    "collapsed": true
   },
   "outputs": [],
   "source": [
    "import pymssql\n",
    "import pandas as pd\n",
    "%matplotlib inline\n",
    "import matplotlib.pyplot as plt"
   ]
  },
  {
   "cell_type": "code",
   "execution_count": 50,
   "metadata": {},
   "outputs": [
    {
     "name": "stdout",
     "output_type": "stream",
     "text": [
      "     ProductID  count_sales  log_count_sales\n",
      "0          707            7         1.945910\n",
      "1          708            6         1.791759\n",
      "2          711            7         1.945910\n",
      "3          712            9         2.197225\n",
      "4          714            7         1.945910\n",
      "5          715           10         2.302585\n",
      "6          716            3         1.098612\n",
      "7          717            2         0.693147\n",
      "8          718            2         0.693147\n",
      "9          722            2         0.693147\n",
      "10         738            5         1.609438\n",
      "11         739            2         0.693147\n",
      "12         742            2         0.693147\n",
      "13         743            5         1.609438\n",
      "14         747            2         0.693147\n",
      "15         748            5         1.609438\n",
      "16         779            4         1.386294\n",
      "17         780            5         1.609438\n",
      "18         781            4         1.386294\n",
      "19         782            6         1.791759\n",
      "20         783            4         1.386294\n",
      "21         784            4         1.386294\n",
      "22         792            1         0.000000\n",
      "23         793            3         1.098612\n",
      "24         794            2         0.693147\n",
      "25         795            2         0.693147\n",
      "26         796            1         0.000000\n",
      "27         797            3         1.098612\n",
      "28         798            3         1.098612\n",
      "29         799            2         0.693147\n",
      "..         ...          ...              ...\n",
      "112        969            5         1.609438\n",
      "113        970            4         1.386294\n",
      "114        971            2         0.693147\n",
      "115        972            4         1.386294\n",
      "116        973            6         1.791759\n",
      "117        974            3         1.098612\n",
      "118        975            1         0.000000\n",
      "119        976            5         1.609438\n",
      "120        977            3         1.098612\n",
      "121        978            2         0.693147\n",
      "122        979            6         1.791759\n",
      "123        980            2         0.693147\n",
      "124        981            5         1.609438\n",
      "125        982            2         0.693147\n",
      "126        983            3         1.098612\n",
      "127        984            5         1.609438\n",
      "128        985            4         1.386294\n",
      "129        986            2         0.693147\n",
      "130        987            3         1.098612\n",
      "131        988            5         1.609438\n",
      "132        989            2         0.693147\n",
      "133        990            2         0.693147\n",
      "134        991            2         0.693147\n",
      "135        992            4         1.386294\n",
      "136        993            2         0.693147\n",
      "137        994            3         1.098612\n",
      "138        996            4         1.386294\n",
      "139        997            1         0.000000\n",
      "140        998            5         1.609438\n",
      "141        999            4         1.386294\n",
      "\n",
      "[142 rows x 3 columns]\n"
     ]
    }
   ],
   "source": [
    "conn = pymssql.connect(\"applicant-testing.database.windows.net\", \"applicant@applicant-testing\", \"jwV/=dYtLefC@BP0\", \"AdventureWorks\")\n",
    "\n",
    "cursor = conn.cursor(as_dict=True)\n",
    "\n",
    "cursor.execute(\"SELECT ProductID, COUNT(ProductID) as count_sales, LOG(COUNT(ProductID)) as log_count_sales FROM SalesLT.SalesOrderDetail GROUP BY ProductID;\")\n",
    "result_dict = cursor.fetchall()\n",
    "result_df = pd.DataFrame(result_dict)\n",
    "print(result_df)"
   ]
  },
  {
   "cell_type": "code",
   "execution_count": 51,
   "metadata": {},
   "outputs": [
    {
     "data": {
      "text/plain": [
       "<matplotlib.axes._subplots.AxesSubplot at 0x7fd5b0770630>"
      ]
     },
     "execution_count": 51,
     "metadata": {},
     "output_type": "execute_result"
    },
    {
     "data": {
      "image/png": "[encoded data removed]",
      "text/plain": [
       "<matplotlib.figure.Figure at 0x7fd5b0702358>"
      ]
     },
     "metadata": {},
     "output_type": "display_data"
    }
   ],
   "source": [
    "result_df[['count_sales', 'log_count_sales']].plot.hist(stacked=True)"
   ]
  },
  {
   "cell_type": "code",
   "execution_count": null,
   "metadata": {
    "collapsed": true
   },
   "outputs": [],
   "source": []
  }
 ],
 "metadata": {
  "kernelspec": {
   "display_name": "Python 3",
   "language": "python",
   "name": "python3"
  },
  "language_info": {
   "codemirror_mode": {
    "name": "ipython",
    "version": 3
   },
   "file_extension": ".py",
   "mimetype": "text/x-python",
   "name": "python",
   "nbconvert_exporter": "python",
   "pygments_lexer": "ipython3",
   "version": "3.6.2"
  }
 },
 "nbformat": 4,
 "nbformat_minor": 2
}
