{
 "cells": [
  {
   "cell_type": "code",
   "execution_count": 1,
   "metadata": {
    "collapsed": true
   },
   "outputs": [],
   "source": [
    "import pymssql\n",
    "import pandas as pd\n",
    "%matplotlib inline\n",
    "import matplotlib.pyplot as plt"
   ]
  },
  {
   "cell_type": "code",
   "execution_count": 2,
   "metadata": {},
   "outputs": [
    {
     "name": "stdout",
     "output_type": "stream",
     "text": [
      "    SalesOrderID  log_total_order_quantity  total_order_quantity\n",
      "0          71774                  0.693147                     2\n",
      "1          71776                  0.000000                     1\n",
      "2          71780                  4.330733                    76\n",
      "3          71782                  4.941642                   140\n",
      "4          71783                  5.655992                   286\n",
      "5          71784                  5.587249                   267\n",
      "6          71796                  4.094345                    60\n",
      "7          71797                  5.602119                   271\n",
      "8          71815                  1.609438                     5\n",
      "9          71816                  2.564949                    13\n",
      "10         71831                  2.197225                     9\n",
      "11         71832                  4.330733                    76\n",
      "12         71845                  4.343805                    77\n",
      "13         71846                  1.791759                     6\n",
      "14         71856                  0.693147                     2\n",
      "15         71858                  3.295837                    27\n",
      "16         71863                  3.091042                    22\n",
      "17         71867                  0.000000                     1\n",
      "18         71885                  2.484907                    12\n",
      "19         71895                  1.945910                     7\n",
      "20         71897                  2.944439                    19\n",
      "21         71898                  4.394449                    81\n",
      "22         71899                  2.397895                    11\n",
      "23         71902                  5.153292                   173\n",
      "24         71915                  2.564949                    13\n",
      "25         71917                  1.945910                     7\n",
      "26         71920                  2.772589                    16\n",
      "27         71923                  2.944439                    19\n",
      "28         71935                  3.135494                    23\n",
      "29         71936                  5.283204                   197\n",
      "30         71938                  5.117994                   167\n",
      "31         71946                  0.000000                     1\n"
     ]
    }
   ],
   "source": [
    "conn = pymssql.connect(\"applicant-testing.database.windows.net\", \"applicant@applicant-testing\", \"jwV/=dYtLefC@BP0\", \"AdventureWorks\")\n",
    "\n",
    "cursor = conn.cursor(as_dict=True)\n",
    "\n",
    "cursor.execute(\"SELECT SalesOrderID, SUM(OrderQty) as total_order_quantity, LOG(SUM(OrderQty)) as log_total_order_quantity FROM SalesLT.SalesOrderDetail GROUP BY SalesOrderID;\")\n",
    "result_dict = cursor.fetchall()\n",
    "result_df = pd.DataFrame(result_dict)\n",
    "print(result_df)"
   ]
  },
  {
   "cell_type": "code",
   "execution_count": 4,
   "metadata": {},
   "outputs": [
    {
     "data": {
      "text/plain": [
       "<matplotlib.axes._subplots.AxesSubplot at 0x7fcb9857c978>"
      ]
     },
     "execution_count": 4,
     "metadata": {},
     "output_type": "execute_result"
    },
    {
     "data": {
      "image/png": "[encoded data removed]",
      "text/plain": [
       "<matplotlib.figure.Figure at 0x7fcb6b4c0ba8>"
      ]
     },
     "metadata": {},
     "output_type": "display_data"
    }
   ],
   "source": [
    "result_df[['total_order_quantity']].plot.hist()"
   ]
  },
  {
   "cell_type": "code",
   "execution_count": 6,
   "metadata": {},
   "outputs": [
    {
     "data": {
      "text/plain": [
       "<matplotlib.axes._subplots.AxesSubplot at 0x7fcb6b2b5358>"
      ]
     },
     "execution_count": 6,
     "metadata": {},
     "output_type": "execute_result"
    },
    {
     "data": {
      "image/png": "[encoded data removed]",
      "text/plain": [
       "<matplotlib.figure.Figure at 0x7fcb6b303f28>"
      ]
     },
     "metadata": {},
     "output_type": "display_data"
    }
   ],
   "source": [
    "result_df[['log_total_order_quantity']].plot.hist()"
   ]
  }
 ],
 "metadata": {
  "kernelspec": {
   "display_name": "Python 3",
   "language": "python",
   "name": "python3"
  },
  "language_info": {
   "codemirror_mode": {
    "name": "ipython",
    "version": 3
   },
   "file_extension": ".py",
   "mimetype": "text/x-python",
   "name": "python",
   "nbconvert_exporter": "python",
   "pygments_lexer": "ipython3",
   "version": "3.6.2"
  }
 },
 "nbformat": 4,
 "nbformat_minor": 2
}
